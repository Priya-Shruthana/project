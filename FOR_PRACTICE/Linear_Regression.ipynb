{
 "cells": [
  {
   "cell_type": "code",
   "execution_count": 2,
   "id": "5c5a6c34",
   "metadata": {},
   "outputs": [],
   "source": [
    "import pandas as pd\n",
    "import numpy as np\n",
    "\n",
    "# Create synthetic data\n",
    "np.random.seed(0)\n",
    "\n",
    "# Generate synthetic rainfall rate data\n",
    "rainfall_rate = np.random.uniform(0, 100, 100)\n",
    "\n",
    "# Generate synthetic crop yield data with a linear relationship and some noise\n",
    "crop_yield = 2 * rainfall_rate + np.random.normal(0, 10, 100)\n",
    "\n",
    "# Create a DataFrame\n",
    "data = pd.DataFrame({'Rainfall Rate': rainfall_rate, 'Crop Yield': crop_yield})\n",
    "\n",
    "# Export the DataFrame to a CSV file\n",
    "data.to_csv('crop_yield_rainfall_data.csv', index=False)\n"
   ]
  },
  {
   "cell_type": "code",
   "execution_count": 4,
   "id": "a6759497",
   "metadata": {},
   "outputs": [
    {
     "name": "stdout",
     "output_type": "stream",
     "text": [
      "   Rainfall Rate  Crop Yield\n",
      "0      54.881350   98.111202\n",
      "1      71.518937  152.046138\n",
      "2      60.276338  125.209300\n",
      "3      54.488318   93.614200\n",
      "4      42.365480   99.613482\n"
     ]
    }
   ],
   "source": [
    "import pandas as pd\n",
    "import numpy as np\n",
    "\n",
    "# Generate synthetic data\n",
    "np.random.seed(0)\n",
    "num_samples = 100\n",
    "\n",
    "# Generate synthetic rainfall rate data\n",
    "rainfall_rate = np.random.uniform(0, 100, num_samples)\n",
    "\n",
    "# Generate synthetic crop yield data with a linear relationship to rainfall rate and some noise\n",
    "crop_yield = 2 * rainfall_rate + np.random.normal(0, 10, num_samples)\n",
    "\n",
    "# Create a DataFrame\n",
    "data = pd.DataFrame({'Rainfall Rate': rainfall_rate, 'Crop Yield': crop_yield})\n",
    "\n",
    "# Export the DataFrame to a CSV file\n",
    "data.to_csv('crop_data.csv', index=False)\n",
    "\n",
    "# Check the first few rows of the DataFrame\n",
    "print(data.head())\n"
   ]
  },
  {
   "cell_type": "code",
   "execution_count": 6,
   "id": "b3422c8f",
   "metadata": {},
   "outputs": [
    {
     "name": "stdout",
     "output_type": "stream",
     "text": [
      "Mean Squared Error (MSE): 91.77532469714296\n",
      "R-squared (R2) Score: 0.9576884341540605\n"
     ]
    }
   ],
   "source": [
    "import numpy as np\n",
    "import pandas as pd\n",
    "from sklearn.model_selection import train_test_split\n",
    "from sklearn.linear_model import LinearRegression\n",
    "from sklearn.metrics import mean_squared_error, r2_score\n",
    "\n",
    "# Assuming you have a dataset in a CSV file (replace 'your_dataset.csv' with the actual file name)\n",
    "dataset = pd.read_csv('crop_data.csv')\n",
    "\n",
    "# Extract the features (rainfall rate) and target (crop yield) columns\n",
    "X = dataset[['Rainfall Rate']]\n",
    "y = dataset['Crop Yield']\n",
    "\n",
    "# Split the data into training and testing sets\n",
    "X_train, X_test, y_train, y_test = train_test_split(X, y, test_size=0.2, random_state=42)\n",
    "\n",
    "# Create a Linear Regression model\n",
    "model = LinearRegression()\n",
    "\n",
    "# Fit the model to the training data\n",
    "model.fit(X_train, y_train)\n",
    "\n",
    "# Make predictions on the test data\n",
    "y_pred = model.predict(X_test)\n",
    "\n",
    "# Calculate Mean Squared Error (MSE)\n",
    "mse = mean_squared_error(y_test, y_pred)\n",
    "\n",
    "# Calculate R-squared (R2) score\n",
    "r2 = r2_score(y_test, y_pred)\n",
    "\n",
    "print(\"Mean Squared Error (MSE):\", mse)\n",
    "print(\"R-squared (R2) Score:\", r2)\n"
   ]
  },
  {
   "cell_type": "code",
   "execution_count": 7,
   "id": "4504bd54",
   "metadata": {},
   "outputs": [
    {
     "name": "stdout",
     "output_type": "stream",
     "text": [
      "Mean Squared Error (MSE): 91.77532469714293\n",
      "R-squared (R2) Score: 0.9576884341540605\n"
     ]
    }
   ],
   "source": [
    "import numpy as np\n",
    "import pandas as pd\n",
    "from sklearn.model_selection import train_test_split\n",
    "from sklearn.linear_model import LinearRegression\n",
    "from sklearn.metrics import mean_squared_error, r2_score\n",
    "\n",
    "# Create synthetic data\n",
    "np.random.seed(0)\n",
    "\n",
    "# Generate synthetic rainfall rate data\n",
    "rainfall_rate = np.random.uniform(0, 100, 100)\n",
    "\n",
    "# Generate synthetic crop yield data with a linear relationship to rainfall rate and some noise\n",
    "crop_yield = 2 * rainfall_rate + np.random.normal(0, 10, 100)\n",
    "\n",
    "# Create a DataFrame\n",
    "data = pd.DataFrame({'Rainfall Rate': rainfall_rate, 'Crop Yield': crop_yield})\n",
    "\n",
    "# Split the data into training and testing sets\n",
    "X = data[['Rainfall Rate']]\n",
    "y = data['Crop Yield']\n",
    "X_train, X_test, y_train, y_test = train_test_split(X, y, test_size=0.2, random_state=42)\n",
    "\n",
    "# Create a Linear Regression model\n",
    "model = LinearRegression()\n",
    "\n",
    "# Fit the model to the training data\n",
    "model.fit(X_train, y_train)\n",
    "\n",
    "# Make predictions on the test data\n",
    "y_pred = model.predict(X_test)\n",
    "\n",
    "# Calculate Mean Squared Error (MSE)\n",
    "mse = mean_squared_error(y_test, y_pred)\n",
    "\n",
    "# Calculate R-squared (R2) score\n",
    "r2 = r2_score(y_test, y_pred)\n",
    "\n",
    "print(\"Mean Squared Error (MSE):\", mse)\n",
    "print(\"R-squared (R2) Score:\", r2)\n"
   ]
  },
  {
   "cell_type": "code",
   "execution_count": null,
   "id": "54078bbb",
   "metadata": {},
   "outputs": [],
   "source": []
  }
 ],
 "metadata": {
  "kernelspec": {
   "display_name": "Python 3 (ipykernel)",
   "language": "python",
   "name": "python3"
  },
  "language_info": {
   "codemirror_mode": {
    "name": "ipython",
    "version": 3
   },
   "file_extension": ".py",
   "mimetype": "text/x-python",
   "name": "python",
   "nbconvert_exporter": "python",
   "pygments_lexer": "ipython3",
   "version": "3.10.9"
  }
 },
 "nbformat": 4,
 "nbformat_minor": 5
}
