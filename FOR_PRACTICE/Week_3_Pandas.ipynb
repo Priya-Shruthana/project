{
 "cells": [
  {
   "cell_type": "markdown",
   "id": "4c8fdd6b",
   "metadata": {},
   "source": [
    "# Name:`Shruthana.J`         Reg.no:`143CS2140`"
   ]
  },
  {
   "cell_type": "markdown",
   "id": "d40c5578",
   "metadata": {},
   "source": [
    "# Demonstration of Pandas and its Functions.\n",
    "\n",
    "## In this exercise we have practiced:\n",
    "* Importing pandas\n",
    "* Creating Sries & DataFrame\n",
    "* Ploting Graphs\n",
    "* Manipulating data\n",
    "* Viewing and Selecting data"
   ]
  },
  {
   "cell_type": "code",
   "execution_count": 2,
   "id": "2eec5c98",
   "metadata": {},
   "outputs": [],
   "source": [
    "#Importing pandas library\n",
    "import pandas as pd"
   ]
  },
  {
   "cell_type": "code",
   "execution_count": 3,
   "id": "3d2cfe91",
   "metadata": {},
   "outputs": [
    {
     "data": {
      "text/plain": [
       "0     Nirantha\n",
       "1    Prakruthi\n",
       "2       Ganavi\n",
       "3      Ullekha\n",
       "4    Vaishnavi\n",
       "dtype: object"
      ]
     },
     "execution_count": 3,
     "metadata": {},
     "output_type": "execute_result"
    }
   ],
   "source": [
    "#Creating Series of Students names\n",
    "S_name=pd.Series([\"Nirantha\",\"Prakruthi\",\"Ganavi\",\"Ullekha\",\"Vaishnavi\"])\n",
    "S_name"
   ]
  },
  {
   "cell_type": "code",
   "execution_count": 4,
   "id": "645e804c",
   "metadata": {},
   "outputs": [
    {
     "data": {
      "text/plain": [
       "0    90\n",
       "1    40\n",
       "2    50\n",
       "3    20\n",
       "4    60\n",
       "dtype: int64"
      ]
     },
     "execution_count": 4,
     "metadata": {},
     "output_type": "execute_result"
    }
   ],
   "source": [
    "#Creating Series of Students marks\n",
    "S_marks=pd.Series([90,40,50,20,60])\n",
    "S_marks"
   ]
  },
  {
   "cell_type": "code",
   "execution_count": 5,
   "id": "92b84a48",
   "metadata": {},
   "outputs": [
    {
     "data": {
      "text/html": [
       "<div>\n",
       "<style scoped>\n",
       "    .dataframe tbody tr th:only-of-type {\n",
       "        vertical-align: middle;\n",
       "    }\n",
       "\n",
       "    .dataframe tbody tr th {\n",
       "        vertical-align: top;\n",
       "    }\n",
       "\n",
       "    .dataframe thead th {\n",
       "        text-align: right;\n",
       "    }\n",
       "</style>\n",
       "<table border=\"1\" class=\"dataframe\">\n",
       "  <thead>\n",
       "    <tr style=\"text-align: right;\">\n",
       "      <th></th>\n",
       "      <th>Student Name</th>\n",
       "      <th>Student Marks</th>\n",
       "    </tr>\n",
       "  </thead>\n",
       "  <tbody>\n",
       "    <tr>\n",
       "      <th>0</th>\n",
       "      <td>Nirantha</td>\n",
       "      <td>90</td>\n",
       "    </tr>\n",
       "    <tr>\n",
       "      <th>1</th>\n",
       "      <td>Prakruthi</td>\n",
       "      <td>40</td>\n",
       "    </tr>\n",
       "    <tr>\n",
       "      <th>2</th>\n",
       "      <td>Ganavi</td>\n",
       "      <td>50</td>\n",
       "    </tr>\n",
       "    <tr>\n",
       "      <th>3</th>\n",
       "      <td>Ullekha</td>\n",
       "      <td>20</td>\n",
       "    </tr>\n",
       "    <tr>\n",
       "      <th>4</th>\n",
       "      <td>Vaishnavi</td>\n",
       "      <td>60</td>\n",
       "    </tr>\n",
       "  </tbody>\n",
       "</table>\n",
       "</div>"
      ],
      "text/plain": [
       "  Student Name  Student Marks\n",
       "0     Nirantha             90\n",
       "1    Prakruthi             40\n",
       "2       Ganavi             50\n",
       "3      Ullekha             20\n",
       "4    Vaishnavi             60"
      ]
     },
     "execution_count": 5,
     "metadata": {},
     "output_type": "execute_result"
    }
   ],
   "source": [
    "#Creating students dataframe\n",
    "Student=pd.DataFrame({\"Student Name\":S_name,\"Student Marks\":S_marks})\n",
    "Student"
   ]
  },
  {
   "cell_type": "markdown",
   "id": "4d57d532",
   "metadata": {},
   "source": [
    "**~Importing `heart-disease` data**"
   ]
  },
  {
   "cell_type": "code",
   "execution_count": 11,
   "id": "f83105a8",
   "metadata": {},
   "outputs": [
    {
     "name": "stdout",
     "output_type": "stream",
     "text": [
      "       Name  Class  Height  Weight  No. of Subject   Fee  Teachers\n",
      "0      Uday     10     5.2      56               4  2000    Govind\n",
      "1    Shashi      8     4.0      48               2  1700     Komal\n",
      "2     Nihar      7     3.2      38               6  1000     Gokul\n",
      "3  Chiranth      4     3.5      46               3   500     Komal\n",
      "4     Akash      8     4.8      63               7  1700   Yathish\n",
      "5   Karthik      4     4.3      47               2   400    Govind\n",
      "6     Vinod      5     4.9      60               5   600  Lakshman\n",
      "7      Ajay      7     5.0      58               4   800     Pawan\n",
      "8     Sunil      8     6.0      72               6  1200    Govind\n",
      "9      Vasu     10     6.3      64               3  2500  Lakshman\n"
     ]
    }
   ],
   "source": [
    "HD=pd.read_excel(\"Student_data.xlsx\")\n",
    "print(HD)"
   ]
  },
  {
   "cell_type": "code",
   "execution_count": 12,
   "id": "059cfe4b",
   "metadata": {},
   "outputs": [
    {
     "data": {
      "text/plain": [
       "Name               object\n",
       "Class               int64\n",
       "Height            float64\n",
       "Weight              int64\n",
       "No. of Subject      int64\n",
       "Fee                 int64\n",
       "Teachers           object\n",
       "dtype: object"
      ]
     },
     "execution_count": 12,
     "metadata": {},
     "output_type": "execute_result"
    }
   ],
   "source": [
    "HD.dtypes"
   ]
  },
  {
   "cell_type": "code",
   "execution_count": 13,
   "id": "740e7111",
   "metadata": {},
   "outputs": [
    {
     "data": {
      "text/html": [
       "<div>\n",
       "<style scoped>\n",
       "    .dataframe tbody tr th:only-of-type {\n",
       "        vertical-align: middle;\n",
       "    }\n",
       "\n",
       "    .dataframe tbody tr th {\n",
       "        vertical-align: top;\n",
       "    }\n",
       "\n",
       "    .dataframe thead th {\n",
       "        text-align: right;\n",
       "    }\n",
       "</style>\n",
       "<table border=\"1\" class=\"dataframe\">\n",
       "  <thead>\n",
       "    <tr style=\"text-align: right;\">\n",
       "      <th></th>\n",
       "      <th>Class</th>\n",
       "      <th>Height</th>\n",
       "      <th>Weight</th>\n",
       "      <th>No. of Subject</th>\n",
       "      <th>Fee</th>\n",
       "    </tr>\n",
       "  </thead>\n",
       "  <tbody>\n",
       "    <tr>\n",
       "      <th>count</th>\n",
       "      <td>10.00000</td>\n",
       "      <td>10.000000</td>\n",
       "      <td>10.000000</td>\n",
       "      <td>10.00000</td>\n",
       "      <td>10.000000</td>\n",
       "    </tr>\n",
       "    <tr>\n",
       "      <th>mean</th>\n",
       "      <td>7.10000</td>\n",
       "      <td>4.720000</td>\n",
       "      <td>55.200000</td>\n",
       "      <td>4.20000</td>\n",
       "      <td>1240.000000</td>\n",
       "    </tr>\n",
       "    <tr>\n",
       "      <th>std</th>\n",
       "      <td>2.18327</td>\n",
       "      <td>0.998666</td>\n",
       "      <td>10.282672</td>\n",
       "      <td>1.75119</td>\n",
       "      <td>707.420981</td>\n",
       "    </tr>\n",
       "    <tr>\n",
       "      <th>min</th>\n",
       "      <td>4.00000</td>\n",
       "      <td>3.200000</td>\n",
       "      <td>38.000000</td>\n",
       "      <td>2.00000</td>\n",
       "      <td>400.000000</td>\n",
       "    </tr>\n",
       "    <tr>\n",
       "      <th>25%</th>\n",
       "      <td>5.50000</td>\n",
       "      <td>4.075000</td>\n",
       "      <td>47.250000</td>\n",
       "      <td>3.00000</td>\n",
       "      <td>650.000000</td>\n",
       "    </tr>\n",
       "    <tr>\n",
       "      <th>50%</th>\n",
       "      <td>7.50000</td>\n",
       "      <td>4.850000</td>\n",
       "      <td>57.000000</td>\n",
       "      <td>4.00000</td>\n",
       "      <td>1100.000000</td>\n",
       "    </tr>\n",
       "    <tr>\n",
       "      <th>75%</th>\n",
       "      <td>8.00000</td>\n",
       "      <td>5.150000</td>\n",
       "      <td>62.250000</td>\n",
       "      <td>5.75000</td>\n",
       "      <td>1700.000000</td>\n",
       "    </tr>\n",
       "    <tr>\n",
       "      <th>max</th>\n",
       "      <td>10.00000</td>\n",
       "      <td>6.300000</td>\n",
       "      <td>72.000000</td>\n",
       "      <td>7.00000</td>\n",
       "      <td>2500.000000</td>\n",
       "    </tr>\n",
       "  </tbody>\n",
       "</table>\n",
       "</div>"
      ],
      "text/plain": [
       "          Class     Height     Weight  No. of Subject          Fee\n",
       "count  10.00000  10.000000  10.000000        10.00000    10.000000\n",
       "mean    7.10000   4.720000  55.200000         4.20000  1240.000000\n",
       "std     2.18327   0.998666  10.282672         1.75119   707.420981\n",
       "min     4.00000   3.200000  38.000000         2.00000   400.000000\n",
       "25%     5.50000   4.075000  47.250000         3.00000   650.000000\n",
       "50%     7.50000   4.850000  57.000000         4.00000  1100.000000\n",
       "75%     8.00000   5.150000  62.250000         5.75000  1700.000000\n",
       "max    10.00000   6.300000  72.000000         7.00000  2500.000000"
      ]
     },
     "execution_count": 13,
     "metadata": {},
     "output_type": "execute_result"
    }
   ],
   "source": [
    "HD.describe()"
   ]
  },
  {
   "cell_type": "code",
   "execution_count": 14,
   "id": "51e77a59",
   "metadata": {},
   "outputs": [
    {
     "name": "stdout",
     "output_type": "stream",
     "text": [
      "<class 'pandas.core.frame.DataFrame'>\n",
      "RangeIndex: 10 entries, 0 to 9\n",
      "Data columns (total 7 columns):\n",
      " #   Column          Non-Null Count  Dtype  \n",
      "---  ------          --------------  -----  \n",
      " 0   Name            10 non-null     object \n",
      " 1   Class           10 non-null     int64  \n",
      " 2   Height          10 non-null     float64\n",
      " 3   Weight          10 non-null     int64  \n",
      " 4   No. of Subject  10 non-null     int64  \n",
      " 5   Fee             10 non-null     int64  \n",
      " 6   Teachers        10 non-null     object \n",
      "dtypes: float64(1), int64(4), object(2)\n",
      "memory usage: 688.0+ bytes\n"
     ]
    }
   ],
   "source": [
    "HD.info()"
   ]
  },
  {
   "cell_type": "code",
   "execution_count": 15,
   "id": "cdd70566",
   "metadata": {},
   "outputs": [
    {
     "name": "stderr",
     "output_type": "stream",
     "text": [
      "C:\\Users\\Language Lab\\AppData\\Local\\Temp\\ipykernel_11868\\2886288526.py:2: FutureWarning: The default value of numeric_only in DataFrame.mean is deprecated. In a future version, it will default to False. In addition, specifying 'numeric_only=None' is deprecated. Select only valid columns or specify the value of numeric_only to silence this warning.\n",
      "  HD.mean()\n"
     ]
    },
    {
     "data": {
      "text/plain": [
       "Class                7.10\n",
       "Height               4.72\n",
       "Weight              55.20\n",
       "No. of Subject       4.20\n",
       "Fee               1240.00\n",
       "dtype: float64"
      ]
     },
     "execution_count": 15,
     "metadata": {},
     "output_type": "execute_result"
    }
   ],
   "source": [
    "# Calling .mean() on a DataFrame\n",
    "HD.mean()"
   ]
  },
  {
   "cell_type": "code",
   "execution_count": 16,
   "id": "1ea1ecb6",
   "metadata": {},
   "outputs": [
    {
     "data": {
      "text/plain": [
       "Name              UdayShashiNiharChiranthAkashKarthikVinodAjaySu...\n",
       "Class                                                            71\n",
       "Height                                                         47.2\n",
       "Weight                                                          552\n",
       "No. of Subject                                                   42\n",
       "Fee                                                           12400\n",
       "Teachers          GovindKomalGokulKomalYathishGovindLakshmanPawa...\n",
       "dtype: object"
      ]
     },
     "execution_count": 16,
     "metadata": {},
     "output_type": "execute_result"
    }
   ],
   "source": [
    "# Calling .sum() on a DataFrame\n",
    "HD.sum()"
   ]
  },
  {
   "cell_type": "code",
   "execution_count": 17,
   "id": "932cf7ce",
   "metadata": {},
   "outputs": [
    {
     "data": {
      "text/plain": [
       "Index(['Name', 'Class', 'Height', 'Weight', 'No. of Subject', 'Fee',\n",
       "       'Teachers'],\n",
       "      dtype='object')"
      ]
     },
     "execution_count": 17,
     "metadata": {},
     "output_type": "execute_result"
    }
   ],
   "source": [
    "HD.columns"
   ]
  },
  {
   "cell_type": "code",
   "execution_count": 18,
   "id": "8a6139e9",
   "metadata": {},
   "outputs": [
    {
     "data": {
      "text/plain": [
       "RangeIndex(start=0, stop=10, step=1)"
      ]
     },
     "execution_count": 18,
     "metadata": {},
     "output_type": "execute_result"
    }
   ],
   "source": [
    "HD.index"
   ]
  },
  {
   "cell_type": "code",
   "execution_count": 19,
   "id": "4017c625",
   "metadata": {},
   "outputs": [
    {
     "data": {
      "text/plain": [
       "10"
      ]
     },
     "execution_count": 19,
     "metadata": {},
     "output_type": "execute_result"
    }
   ],
   "source": [
    "len(HD)"
   ]
  },
  {
   "cell_type": "code",
   "execution_count": 20,
   "id": "d7080b53",
   "metadata": {},
   "outputs": [
    {
     "data": {
      "text/html": [
       "<div>\n",
       "<style scoped>\n",
       "    .dataframe tbody tr th:only-of-type {\n",
       "        vertical-align: middle;\n",
       "    }\n",
       "\n",
       "    .dataframe tbody tr th {\n",
       "        vertical-align: top;\n",
       "    }\n",
       "\n",
       "    .dataframe thead th {\n",
       "        text-align: right;\n",
       "    }\n",
       "</style>\n",
       "<table border=\"1\" class=\"dataframe\">\n",
       "  <thead>\n",
       "    <tr style=\"text-align: right;\">\n",
       "      <th></th>\n",
       "      <th>Name</th>\n",
       "      <th>Class</th>\n",
       "      <th>Height</th>\n",
       "      <th>Weight</th>\n",
       "      <th>No. of Subject</th>\n",
       "      <th>Fee</th>\n",
       "      <th>Teachers</th>\n",
       "    </tr>\n",
       "  </thead>\n",
       "  <tbody>\n",
       "    <tr>\n",
       "      <th>0</th>\n",
       "      <td>Uday</td>\n",
       "      <td>10</td>\n",
       "      <td>5.2</td>\n",
       "      <td>56</td>\n",
       "      <td>4</td>\n",
       "      <td>2000</td>\n",
       "      <td>Govind</td>\n",
       "    </tr>\n",
       "    <tr>\n",
       "      <th>1</th>\n",
       "      <td>Shashi</td>\n",
       "      <td>8</td>\n",
       "      <td>4.0</td>\n",
       "      <td>48</td>\n",
       "      <td>2</td>\n",
       "      <td>1700</td>\n",
       "      <td>Komal</td>\n",
       "    </tr>\n",
       "    <tr>\n",
       "      <th>2</th>\n",
       "      <td>Nihar</td>\n",
       "      <td>7</td>\n",
       "      <td>3.2</td>\n",
       "      <td>38</td>\n",
       "      <td>6</td>\n",
       "      <td>1000</td>\n",
       "      <td>Gokul</td>\n",
       "    </tr>\n",
       "    <tr>\n",
       "      <th>3</th>\n",
       "      <td>Chiranth</td>\n",
       "      <td>4</td>\n",
       "      <td>3.5</td>\n",
       "      <td>46</td>\n",
       "      <td>3</td>\n",
       "      <td>500</td>\n",
       "      <td>Komal</td>\n",
       "    </tr>\n",
       "    <tr>\n",
       "      <th>4</th>\n",
       "      <td>Akash</td>\n",
       "      <td>8</td>\n",
       "      <td>4.8</td>\n",
       "      <td>63</td>\n",
       "      <td>7</td>\n",
       "      <td>1700</td>\n",
       "      <td>Yathish</td>\n",
       "    </tr>\n",
       "  </tbody>\n",
       "</table>\n",
       "</div>"
      ],
      "text/plain": [
       "       Name  Class  Height  Weight  No. of Subject   Fee Teachers\n",
       "0      Uday     10     5.2      56               4  2000   Govind\n",
       "1    Shashi      8     4.0      48               2  1700    Komal\n",
       "2     Nihar      7     3.2      38               6  1000    Gokul\n",
       "3  Chiranth      4     3.5      46               3   500    Komal\n",
       "4     Akash      8     4.8      63               7  1700  Yathish"
      ]
     },
     "execution_count": 20,
     "metadata": {},
     "output_type": "execute_result"
    }
   ],
   "source": [
    "HD.head()"
   ]
  },
  {
   "cell_type": "code",
   "execution_count": 21,
   "id": "5ebd2eca",
   "metadata": {},
   "outputs": [
    {
     "data": {
      "text/html": [
       "<div>\n",
       "<style scoped>\n",
       "    .dataframe tbody tr th:only-of-type {\n",
       "        vertical-align: middle;\n",
       "    }\n",
       "\n",
       "    .dataframe tbody tr th {\n",
       "        vertical-align: top;\n",
       "    }\n",
       "\n",
       "    .dataframe thead th {\n",
       "        text-align: right;\n",
       "    }\n",
       "</style>\n",
       "<table border=\"1\" class=\"dataframe\">\n",
       "  <thead>\n",
       "    <tr style=\"text-align: right;\">\n",
       "      <th></th>\n",
       "      <th>Name</th>\n",
       "      <th>Class</th>\n",
       "      <th>Height</th>\n",
       "      <th>Weight</th>\n",
       "      <th>No. of Subject</th>\n",
       "      <th>Fee</th>\n",
       "      <th>Teachers</th>\n",
       "    </tr>\n",
       "  </thead>\n",
       "  <tbody>\n",
       "    <tr>\n",
       "      <th>5</th>\n",
       "      <td>Karthik</td>\n",
       "      <td>4</td>\n",
       "      <td>4.3</td>\n",
       "      <td>47</td>\n",
       "      <td>2</td>\n",
       "      <td>400</td>\n",
       "      <td>Govind</td>\n",
       "    </tr>\n",
       "    <tr>\n",
       "      <th>6</th>\n",
       "      <td>Vinod</td>\n",
       "      <td>5</td>\n",
       "      <td>4.9</td>\n",
       "      <td>60</td>\n",
       "      <td>5</td>\n",
       "      <td>600</td>\n",
       "      <td>Lakshman</td>\n",
       "    </tr>\n",
       "    <tr>\n",
       "      <th>7</th>\n",
       "      <td>Ajay</td>\n",
       "      <td>7</td>\n",
       "      <td>5.0</td>\n",
       "      <td>58</td>\n",
       "      <td>4</td>\n",
       "      <td>800</td>\n",
       "      <td>Pawan</td>\n",
       "    </tr>\n",
       "    <tr>\n",
       "      <th>8</th>\n",
       "      <td>Sunil</td>\n",
       "      <td>8</td>\n",
       "      <td>6.0</td>\n",
       "      <td>72</td>\n",
       "      <td>6</td>\n",
       "      <td>1200</td>\n",
       "      <td>Govind</td>\n",
       "    </tr>\n",
       "    <tr>\n",
       "      <th>9</th>\n",
       "      <td>Vasu</td>\n",
       "      <td>10</td>\n",
       "      <td>6.3</td>\n",
       "      <td>64</td>\n",
       "      <td>3</td>\n",
       "      <td>2500</td>\n",
       "      <td>Lakshman</td>\n",
       "    </tr>\n",
       "  </tbody>\n",
       "</table>\n",
       "</div>"
      ],
      "text/plain": [
       "      Name  Class  Height  Weight  No. of Subject   Fee  Teachers\n",
       "5  Karthik      4     4.3      47               2   400    Govind\n",
       "6    Vinod      5     4.9      60               5   600  Lakshman\n",
       "7     Ajay      7     5.0      58               4   800     Pawan\n",
       "8    Sunil      8     6.0      72               6  1200    Govind\n",
       "9     Vasu     10     6.3      64               3  2500  Lakshman"
      ]
     },
     "execution_count": 21,
     "metadata": {},
     "output_type": "execute_result"
    }
   ],
   "source": [
    "HD.tail()"
   ]
  },
  {
   "cell_type": "code",
   "execution_count": 22,
   "id": "0e3be895",
   "metadata": {},
   "outputs": [
    {
     "data": {
      "text/html": [
       "<div>\n",
       "<style scoped>\n",
       "    .dataframe tbody tr th:only-of-type {\n",
       "        vertical-align: middle;\n",
       "    }\n",
       "\n",
       "    .dataframe tbody tr th {\n",
       "        vertical-align: top;\n",
       "    }\n",
       "\n",
       "    .dataframe thead th {\n",
       "        text-align: right;\n",
       "    }\n",
       "</style>\n",
       "<table border=\"1\" class=\"dataframe\">\n",
       "  <thead>\n",
       "    <tr style=\"text-align: right;\">\n",
       "      <th></th>\n",
       "      <th>Name</th>\n",
       "      <th>Class</th>\n",
       "      <th>Height</th>\n",
       "      <th>Weight</th>\n",
       "      <th>No. of Subject</th>\n",
       "      <th>Fee</th>\n",
       "      <th>Teachers</th>\n",
       "    </tr>\n",
       "  </thead>\n",
       "  <tbody>\n",
       "    <tr>\n",
       "      <th>0</th>\n",
       "      <td>Uday</td>\n",
       "      <td>10</td>\n",
       "      <td>5.2</td>\n",
       "      <td>56</td>\n",
       "      <td>4</td>\n",
       "      <td>2000</td>\n",
       "      <td>Govind</td>\n",
       "    </tr>\n",
       "    <tr>\n",
       "      <th>1</th>\n",
       "      <td>Shashi</td>\n",
       "      <td>8</td>\n",
       "      <td>4.0</td>\n",
       "      <td>48</td>\n",
       "      <td>2</td>\n",
       "      <td>1700</td>\n",
       "      <td>Komal</td>\n",
       "    </tr>\n",
       "    <tr>\n",
       "      <th>2</th>\n",
       "      <td>Nihar</td>\n",
       "      <td>7</td>\n",
       "      <td>3.2</td>\n",
       "      <td>38</td>\n",
       "      <td>6</td>\n",
       "      <td>1000</td>\n",
       "      <td>Gokul</td>\n",
       "    </tr>\n",
       "    <tr>\n",
       "      <th>3</th>\n",
       "      <td>Chiranth</td>\n",
       "      <td>4</td>\n",
       "      <td>3.5</td>\n",
       "      <td>46</td>\n",
       "      <td>3</td>\n",
       "      <td>500</td>\n",
       "      <td>Komal</td>\n",
       "    </tr>\n",
       "    <tr>\n",
       "      <th>4</th>\n",
       "      <td>Akash</td>\n",
       "      <td>8</td>\n",
       "      <td>4.8</td>\n",
       "      <td>63</td>\n",
       "      <td>7</td>\n",
       "      <td>1700</td>\n",
       "      <td>Yathish</td>\n",
       "    </tr>\n",
       "    <tr>\n",
       "      <th>5</th>\n",
       "      <td>Karthik</td>\n",
       "      <td>4</td>\n",
       "      <td>4.3</td>\n",
       "      <td>47</td>\n",
       "      <td>2</td>\n",
       "      <td>400</td>\n",
       "      <td>Govind</td>\n",
       "    </tr>\n",
       "    <tr>\n",
       "      <th>6</th>\n",
       "      <td>Vinod</td>\n",
       "      <td>5</td>\n",
       "      <td>4.9</td>\n",
       "      <td>60</td>\n",
       "      <td>5</td>\n",
       "      <td>600</td>\n",
       "      <td>Lakshman</td>\n",
       "    </tr>\n",
       "    <tr>\n",
       "      <th>7</th>\n",
       "      <td>Ajay</td>\n",
       "      <td>7</td>\n",
       "      <td>5.0</td>\n",
       "      <td>58</td>\n",
       "      <td>4</td>\n",
       "      <td>800</td>\n",
       "      <td>Pawan</td>\n",
       "    </tr>\n",
       "    <tr>\n",
       "      <th>8</th>\n",
       "      <td>Sunil</td>\n",
       "      <td>8</td>\n",
       "      <td>6.0</td>\n",
       "      <td>72</td>\n",
       "      <td>6</td>\n",
       "      <td>1200</td>\n",
       "      <td>Govind</td>\n",
       "    </tr>\n",
       "    <tr>\n",
       "      <th>9</th>\n",
       "      <td>Vasu</td>\n",
       "      <td>10</td>\n",
       "      <td>6.3</td>\n",
       "      <td>64</td>\n",
       "      <td>3</td>\n",
       "      <td>2500</td>\n",
       "      <td>Lakshman</td>\n",
       "    </tr>\n",
       "  </tbody>\n",
       "</table>\n",
       "</div>"
      ],
      "text/plain": [
       "       Name  Class  Height  Weight  No. of Subject   Fee  Teachers\n",
       "0      Uday     10     5.2      56               4  2000    Govind\n",
       "1    Shashi      8     4.0      48               2  1700     Komal\n",
       "2     Nihar      7     3.2      38               6  1000     Gokul\n",
       "3  Chiranth      4     3.5      46               3   500     Komal\n",
       "4     Akash      8     4.8      63               7  1700   Yathish\n",
       "5   Karthik      4     4.3      47               2   400    Govind\n",
       "6     Vinod      5     4.9      60               5   600  Lakshman\n",
       "7      Ajay      7     5.0      58               4   800     Pawan\n",
       "8     Sunil      8     6.0      72               6  1200    Govind\n",
       "9      Vasu     10     6.3      64               3  2500  Lakshman"
      ]
     },
     "execution_count": 22,
     "metadata": {},
     "output_type": "execute_result"
    }
   ],
   "source": [
    "HD"
   ]
  },
  {
   "cell_type": "code",
   "execution_count": 23,
   "id": "9ffe7102",
   "metadata": {},
   "outputs": [
    {
     "data": {
      "text/plain": [
       "Name              Shashi\n",
       "Class                  8\n",
       "Height               4.0\n",
       "Weight                48\n",
       "No. of Subject         2\n",
       "Fee                 1700\n",
       "Teachers           Komal\n",
       "Name: 1, dtype: object"
      ]
     },
     "execution_count": 23,
     "metadata": {},
     "output_type": "execute_result"
    }
   ],
   "source": [
    "HD.loc[1]"
   ]
  },
  {
   "cell_type": "code",
   "execution_count": 24,
   "id": "ddabfd44",
   "metadata": {},
   "outputs": [
    {
     "data": {
      "text/plain": [
       "Name              Shashi\n",
       "Class                  8\n",
       "Height               4.0\n",
       "Weight                48\n",
       "No. of Subject         2\n",
       "Fee                 1700\n",
       "Teachers           Komal\n",
       "Name: 1, dtype: object"
      ]
     },
     "execution_count": 24,
     "metadata": {},
     "output_type": "execute_result"
    }
   ],
   "source": [
    "HD.iloc[1]"
   ]
  },
  {
   "cell_type": "code",
   "execution_count": 25,
   "id": "40762150",
   "metadata": {},
   "outputs": [
    {
     "data": {
      "text/plain": [
       "'Gokul'"
      ]
     },
     "execution_count": 25,
     "metadata": {},
     "output_type": "execute_result"
    }
   ],
   "source": [
    "HD.Teachers[2]"
   ]
  },
  {
   "cell_type": "code",
   "execution_count": 26,
   "id": "91cabe3c",
   "metadata": {},
   "outputs": [
    {
     "data": {
      "text/html": [
       "<div>\n",
       "<style scoped>\n",
       "    .dataframe tbody tr th:only-of-type {\n",
       "        vertical-align: middle;\n",
       "    }\n",
       "\n",
       "    .dataframe tbody tr th {\n",
       "        vertical-align: top;\n",
       "    }\n",
       "\n",
       "    .dataframe thead th {\n",
       "        text-align: right;\n",
       "    }\n",
       "</style>\n",
       "<table border=\"1\" class=\"dataframe\">\n",
       "  <thead>\n",
       "    <tr style=\"text-align: right;\">\n",
       "      <th></th>\n",
       "      <th>States</th>\n",
       "      <th>Language</th>\n",
       "    </tr>\n",
       "  </thead>\n",
       "  <tbody>\n",
       "    <tr>\n",
       "      <th>2</th>\n",
       "      <td>Karnataka</td>\n",
       "      <td>Kannada</td>\n",
       "    </tr>\n",
       "    <tr>\n",
       "      <th>37</th>\n",
       "      <td>TamilNadu</td>\n",
       "      <td>Tamil</td>\n",
       "    </tr>\n",
       "    <tr>\n",
       "      <th>4</th>\n",
       "      <td>Dehli</td>\n",
       "      <td>Hindi</td>\n",
       "    </tr>\n",
       "    <tr>\n",
       "      <th>8</th>\n",
       "      <td>Kerala</td>\n",
       "      <td>Malyalam</td>\n",
       "    </tr>\n",
       "    <tr>\n",
       "      <th>10</th>\n",
       "      <td>Gujarath</td>\n",
       "      <td>Gujarathi</td>\n",
       "    </tr>\n",
       "  </tbody>\n",
       "</table>\n",
       "</div>"
      ],
      "text/plain": [
       "       States   Language\n",
       "2   Karnataka    Kannada\n",
       "37  TamilNadu      Tamil\n",
       "4       Dehli      Hindi\n",
       "8      Kerala   Malyalam\n",
       "10   Gujarath  Gujarathi"
      ]
     },
     "execution_count": 26,
     "metadata": {},
     "output_type": "execute_result"
    }
   ],
   "source": [
    "df=pd.DataFrame({\"States\":[\"Karnataka\",\"TamilNadu\",\"Dehli\",\"Kerala\",\"Gujarath\"],\n",
    "                 \"Language\":[\"Kannada\",\"Tamil\",\"Hindi\",\"Malyalam\",\"Gujarathi\"]},\n",
    "               index=[2,37,4,8,10])\n",
    "df"
   ]
  },
  {
   "cell_type": "markdown",
   "id": "1c6991bd",
   "metadata": {},
   "source": [
    "**`df.loc[]`*(location)* will return all the till given `label`.**"
   ]
  },
  {
   "cell_type": "code",
   "execution_count": 27,
   "id": "7206f42f",
   "metadata": {},
   "outputs": [
    {
     "data": {
      "text/plain": [
       "States        Kerala\n",
       "Language    Malyalam\n",
       "Name: 8, dtype: object"
      ]
     },
     "execution_count": 27,
     "metadata": {},
     "output_type": "execute_result"
    }
   ],
   "source": [
    "df.loc[8]"
   ]
  },
  {
   "cell_type": "code",
   "execution_count": 28,
   "id": "86caad8f",
   "metadata": {},
   "outputs": [
    {
     "data": {
      "text/html": [
       "<div>\n",
       "<style scoped>\n",
       "    .dataframe tbody tr th:only-of-type {\n",
       "        vertical-align: middle;\n",
       "    }\n",
       "\n",
       "    .dataframe tbody tr th {\n",
       "        vertical-align: top;\n",
       "    }\n",
       "\n",
       "    .dataframe thead th {\n",
       "        text-align: right;\n",
       "    }\n",
       "</style>\n",
       "<table border=\"1\" class=\"dataframe\">\n",
       "  <thead>\n",
       "    <tr style=\"text-align: right;\">\n",
       "      <th></th>\n",
       "      <th>States</th>\n",
       "      <th>Language</th>\n",
       "    </tr>\n",
       "  </thead>\n",
       "  <tbody>\n",
       "    <tr>\n",
       "      <th>2</th>\n",
       "      <td>Karnataka</td>\n",
       "      <td>Kannada</td>\n",
       "    </tr>\n",
       "    <tr>\n",
       "      <th>37</th>\n",
       "      <td>TamilNadu</td>\n",
       "      <td>Tamil</td>\n",
       "    </tr>\n",
       "    <tr>\n",
       "      <th>4</th>\n",
       "      <td>Dehli</td>\n",
       "      <td>Hindi</td>\n",
       "    </tr>\n",
       "  </tbody>\n",
       "</table>\n",
       "</div>"
      ],
      "text/plain": [
       "       States Language\n",
       "2   Karnataka  Kannada\n",
       "37  TamilNadu    Tamil\n",
       "4       Dehli    Hindi"
      ]
     },
     "execution_count": 28,
     "metadata": {},
     "output_type": "execute_result"
    }
   ],
   "source": [
    "df.loc[:4]"
   ]
  },
  {
   "cell_type": "markdown",
   "id": "c82df358",
   "metadata": {},
   "source": [
    "**`df.iloc[]`*(index location)* will return row of given index or till given `index`.**"
   ]
  },
  {
   "cell_type": "code",
   "execution_count": 29,
   "id": "4cd57544",
   "metadata": {},
   "outputs": [
    {
     "data": {
      "text/plain": [
       "States      Dehli\n",
       "Language    Hindi\n",
       "Name: 4, dtype: object"
      ]
     },
     "execution_count": 29,
     "metadata": {},
     "output_type": "execute_result"
    }
   ],
   "source": [
    "df.iloc[2]"
   ]
  },
  {
   "cell_type": "code",
   "execution_count": 30,
   "id": "e499d782",
   "metadata": {},
   "outputs": [
    {
     "data": {
      "text/html": [
       "<div>\n",
       "<style scoped>\n",
       "    .dataframe tbody tr th:only-of-type {\n",
       "        vertical-align: middle;\n",
       "    }\n",
       "\n",
       "    .dataframe tbody tr th {\n",
       "        vertical-align: top;\n",
       "    }\n",
       "\n",
       "    .dataframe thead th {\n",
       "        text-align: right;\n",
       "    }\n",
       "</style>\n",
       "<table border=\"1\" class=\"dataframe\">\n",
       "  <thead>\n",
       "    <tr style=\"text-align: right;\">\n",
       "      <th></th>\n",
       "      <th>States</th>\n",
       "      <th>Language</th>\n",
       "    </tr>\n",
       "  </thead>\n",
       "  <tbody>\n",
       "    <tr>\n",
       "      <th>4</th>\n",
       "      <td>Dehli</td>\n",
       "      <td>Hindi</td>\n",
       "    </tr>\n",
       "    <tr>\n",
       "      <th>8</th>\n",
       "      <td>Kerala</td>\n",
       "      <td>Malyalam</td>\n",
       "    </tr>\n",
       "    <tr>\n",
       "      <th>10</th>\n",
       "      <td>Gujarath</td>\n",
       "      <td>Gujarathi</td>\n",
       "    </tr>\n",
       "  </tbody>\n",
       "</table>\n",
       "</div>"
      ],
      "text/plain": [
       "      States   Language\n",
       "4      Dehli      Hindi\n",
       "8     Kerala   Malyalam\n",
       "10  Gujarath  Gujarathi"
      ]
     },
     "execution_count": 30,
     "metadata": {},
     "output_type": "execute_result"
    }
   ],
   "source": [
    "df.iloc[2:]"
   ]
  },
  {
   "cell_type": "code",
   "execution_count": 31,
   "id": "dd7e24fb",
   "metadata": {},
   "outputs": [
    {
     "data": {
      "text/html": [
       "<div>\n",
       "<style scoped>\n",
       "    .dataframe tbody tr th:only-of-type {\n",
       "        vertical-align: middle;\n",
       "    }\n",
       "\n",
       "    .dataframe tbody tr th {\n",
       "        vertical-align: top;\n",
       "    }\n",
       "\n",
       "    .dataframe thead th {\n",
       "        text-align: right;\n",
       "    }\n",
       "</style>\n",
       "<table border=\"1\" class=\"dataframe\">\n",
       "  <thead>\n",
       "    <tr style=\"text-align: right;\">\n",
       "      <th></th>\n",
       "      <th>Name</th>\n",
       "      <th>Class</th>\n",
       "      <th>Height</th>\n",
       "      <th>Weight</th>\n",
       "      <th>No. of Subject</th>\n",
       "      <th>Fee</th>\n",
       "      <th>Teachers</th>\n",
       "    </tr>\n",
       "  </thead>\n",
       "  <tbody>\n",
       "    <tr>\n",
       "      <th>0</th>\n",
       "      <td>Uday</td>\n",
       "      <td>10</td>\n",
       "      <td>5.2</td>\n",
       "      <td>56</td>\n",
       "      <td>4</td>\n",
       "      <td>2000</td>\n",
       "      <td>Govind</td>\n",
       "    </tr>\n",
       "    <tr>\n",
       "      <th>1</th>\n",
       "      <td>Shashi</td>\n",
       "      <td>8</td>\n",
       "      <td>4.0</td>\n",
       "      <td>48</td>\n",
       "      <td>2</td>\n",
       "      <td>1700</td>\n",
       "      <td>Komal</td>\n",
       "    </tr>\n",
       "    <tr>\n",
       "      <th>2</th>\n",
       "      <td>Nihar</td>\n",
       "      <td>7</td>\n",
       "      <td>3.2</td>\n",
       "      <td>38</td>\n",
       "      <td>6</td>\n",
       "      <td>1000</td>\n",
       "      <td>Gokul</td>\n",
       "    </tr>\n",
       "    <tr>\n",
       "      <th>3</th>\n",
       "      <td>Chiranth</td>\n",
       "      <td>4</td>\n",
       "      <td>3.5</td>\n",
       "      <td>46</td>\n",
       "      <td>3</td>\n",
       "      <td>500</td>\n",
       "      <td>Komal</td>\n",
       "    </tr>\n",
       "    <tr>\n",
       "      <th>4</th>\n",
       "      <td>Akash</td>\n",
       "      <td>8</td>\n",
       "      <td>4.8</td>\n",
       "      <td>63</td>\n",
       "      <td>7</td>\n",
       "      <td>1700</td>\n",
       "      <td>Yathish</td>\n",
       "    </tr>\n",
       "    <tr>\n",
       "      <th>5</th>\n",
       "      <td>Karthik</td>\n",
       "      <td>4</td>\n",
       "      <td>4.3</td>\n",
       "      <td>47</td>\n",
       "      <td>2</td>\n",
       "      <td>400</td>\n",
       "      <td>Govind</td>\n",
       "    </tr>\n",
       "    <tr>\n",
       "      <th>6</th>\n",
       "      <td>Vinod</td>\n",
       "      <td>5</td>\n",
       "      <td>4.9</td>\n",
       "      <td>60</td>\n",
       "      <td>5</td>\n",
       "      <td>600</td>\n",
       "      <td>Lakshman</td>\n",
       "    </tr>\n",
       "    <tr>\n",
       "      <th>7</th>\n",
       "      <td>Ajay</td>\n",
       "      <td>7</td>\n",
       "      <td>5.0</td>\n",
       "      <td>58</td>\n",
       "      <td>4</td>\n",
       "      <td>800</td>\n",
       "      <td>Pawan</td>\n",
       "    </tr>\n",
       "    <tr>\n",
       "      <th>8</th>\n",
       "      <td>Sunil</td>\n",
       "      <td>8</td>\n",
       "      <td>6.0</td>\n",
       "      <td>72</td>\n",
       "      <td>6</td>\n",
       "      <td>1200</td>\n",
       "      <td>Govind</td>\n",
       "    </tr>\n",
       "    <tr>\n",
       "      <th>9</th>\n",
       "      <td>Vasu</td>\n",
       "      <td>10</td>\n",
       "      <td>6.3</td>\n",
       "      <td>64</td>\n",
       "      <td>3</td>\n",
       "      <td>2500</td>\n",
       "      <td>Lakshman</td>\n",
       "    </tr>\n",
       "  </tbody>\n",
       "</table>\n",
       "</div>"
      ],
      "text/plain": [
       "       Name  Class  Height  Weight  No. of Subject   Fee  Teachers\n",
       "0      Uday     10     5.2      56               4  2000    Govind\n",
       "1    Shashi      8     4.0      48               2  1700     Komal\n",
       "2     Nihar      7     3.2      38               6  1000     Gokul\n",
       "3  Chiranth      4     3.5      46               3   500     Komal\n",
       "4     Akash      8     4.8      63               7  1700   Yathish\n",
       "5   Karthik      4     4.3      47               2   400    Govind\n",
       "6     Vinod      5     4.9      60               5   600  Lakshman\n",
       "7      Ajay      7     5.0      58               4   800     Pawan\n",
       "8     Sunil      8     6.0      72               6  1200    Govind\n",
       "9      Vasu     10     6.3      64               3  2500  Lakshman"
      ]
     },
     "execution_count": 31,
     "metadata": {},
     "output_type": "execute_result"
    }
   ],
   "source": [
    "HD"
   ]
  },
  {
   "cell_type": "code",
   "execution_count": 32,
   "id": "40047807",
   "metadata": {},
   "outputs": [
    {
     "data": {
      "text/plain": [
       "0        Uday\n",
       "1      Shashi\n",
       "2       Nihar\n",
       "3    Chiranth\n",
       "4       Akash\n",
       "5     Karthik\n",
       "6       Vinod\n",
       "7        Ajay\n",
       "8       Sunil\n",
       "9        Vasu\n",
       "Name: Name, dtype: object"
      ]
     },
     "execution_count": 32,
     "metadata": {},
     "output_type": "execute_result"
    }
   ],
   "source": [
    "HD[\"Name\"]"
   ]
  },
  {
   "cell_type": "code",
   "execution_count": 33,
   "id": "1d11b862",
   "metadata": {},
   "outputs": [
    {
     "data": {
      "text/plain": [
       "0      Uday\n",
       "1    Shashi\n",
       "Name: Name, dtype: object"
      ]
     },
     "execution_count": 33,
     "metadata": {},
     "output_type": "execute_result"
    }
   ],
   "source": [
    "HD.Name.head(2)"
   ]
  },
  {
   "cell_type": "code",
   "execution_count": 34,
   "id": "55d828ba",
   "metadata": {},
   "outputs": [
    {
     "data": {
      "text/html": [
       "<div>\n",
       "<style scoped>\n",
       "    .dataframe tbody tr th:only-of-type {\n",
       "        vertical-align: middle;\n",
       "    }\n",
       "\n",
       "    .dataframe tbody tr th {\n",
       "        vertical-align: top;\n",
       "    }\n",
       "\n",
       "    .dataframe thead th {\n",
       "        text-align: right;\n",
       "    }\n",
       "</style>\n",
       "<table border=\"1\" class=\"dataframe\">\n",
       "  <thead>\n",
       "    <tr style=\"text-align: right;\">\n",
       "      <th></th>\n",
       "      <th>Name</th>\n",
       "      <th>Class</th>\n",
       "      <th>Height</th>\n",
       "      <th>Weight</th>\n",
       "      <th>No. of Subject</th>\n",
       "      <th>Fee</th>\n",
       "      <th>Teachers</th>\n",
       "    </tr>\n",
       "  </thead>\n",
       "  <tbody>\n",
       "    <tr>\n",
       "      <th>0</th>\n",
       "      <td>Uday</td>\n",
       "      <td>10</td>\n",
       "      <td>5.2</td>\n",
       "      <td>56</td>\n",
       "      <td>4</td>\n",
       "      <td>2000</td>\n",
       "      <td>Govind</td>\n",
       "    </tr>\n",
       "    <tr>\n",
       "      <th>1</th>\n",
       "      <td>Shashi</td>\n",
       "      <td>8</td>\n",
       "      <td>4.0</td>\n",
       "      <td>48</td>\n",
       "      <td>2</td>\n",
       "      <td>1700</td>\n",
       "      <td>Komal</td>\n",
       "    </tr>\n",
       "    <tr>\n",
       "      <th>4</th>\n",
       "      <td>Akash</td>\n",
       "      <td>8</td>\n",
       "      <td>4.8</td>\n",
       "      <td>63</td>\n",
       "      <td>7</td>\n",
       "      <td>1700</td>\n",
       "      <td>Yathish</td>\n",
       "    </tr>\n",
       "    <tr>\n",
       "      <th>8</th>\n",
       "      <td>Sunil</td>\n",
       "      <td>8</td>\n",
       "      <td>6.0</td>\n",
       "      <td>72</td>\n",
       "      <td>6</td>\n",
       "      <td>1200</td>\n",
       "      <td>Govind</td>\n",
       "    </tr>\n",
       "    <tr>\n",
       "      <th>9</th>\n",
       "      <td>Vasu</td>\n",
       "      <td>10</td>\n",
       "      <td>6.3</td>\n",
       "      <td>64</td>\n",
       "      <td>3</td>\n",
       "      <td>2500</td>\n",
       "      <td>Lakshman</td>\n",
       "    </tr>\n",
       "  </tbody>\n",
       "</table>\n",
       "</div>"
      ],
      "text/plain": [
       "     Name  Class  Height  Weight  No. of Subject   Fee  Teachers\n",
       "0    Uday     10     5.2      56               4  2000    Govind\n",
       "1  Shashi      8     4.0      48               2  1700     Komal\n",
       "4   Akash      8     4.8      63               7  1700   Yathish\n",
       "8   Sunil      8     6.0      72               6  1200    Govind\n",
       "9    Vasu     10     6.3      64               3  2500  Lakshman"
      ]
     },
     "execution_count": 34,
     "metadata": {},
     "output_type": "execute_result"
    }
   ],
   "source": [
    "HD[HD.Fee>1000]"
   ]
  },
  {
   "cell_type": "code",
   "execution_count": 35,
   "id": "ffffa178",
   "metadata": {},
   "outputs": [
    {
     "data": {
      "text/html": [
       "<div>\n",
       "<style scoped>\n",
       "    .dataframe tbody tr th:only-of-type {\n",
       "        vertical-align: middle;\n",
       "    }\n",
       "\n",
       "    .dataframe tbody tr th {\n",
       "        vertical-align: top;\n",
       "    }\n",
       "\n",
       "    .dataframe thead th {\n",
       "        text-align: right;\n",
       "    }\n",
       "</style>\n",
       "<table border=\"1\" class=\"dataframe\">\n",
       "  <thead>\n",
       "    <tr style=\"text-align: right;\">\n",
       "      <th></th>\n",
       "      <th>Name</th>\n",
       "      <th>Class</th>\n",
       "      <th>Height</th>\n",
       "      <th>Weight</th>\n",
       "      <th>No. of Subject</th>\n",
       "      <th>Fee</th>\n",
       "      <th>Teachers</th>\n",
       "    </tr>\n",
       "  </thead>\n",
       "  <tbody>\n",
       "    <tr>\n",
       "      <th>0</th>\n",
       "      <td>Uday</td>\n",
       "      <td>10</td>\n",
       "      <td>5.2</td>\n",
       "      <td>56</td>\n",
       "      <td>4</td>\n",
       "      <td>2000</td>\n",
       "      <td>Govind</td>\n",
       "    </tr>\n",
       "    <tr>\n",
       "      <th>5</th>\n",
       "      <td>Karthik</td>\n",
       "      <td>4</td>\n",
       "      <td>4.3</td>\n",
       "      <td>47</td>\n",
       "      <td>2</td>\n",
       "      <td>400</td>\n",
       "      <td>Govind</td>\n",
       "    </tr>\n",
       "    <tr>\n",
       "      <th>8</th>\n",
       "      <td>Sunil</td>\n",
       "      <td>8</td>\n",
       "      <td>6.0</td>\n",
       "      <td>72</td>\n",
       "      <td>6</td>\n",
       "      <td>1200</td>\n",
       "      <td>Govind</td>\n",
       "    </tr>\n",
       "  </tbody>\n",
       "</table>\n",
       "</div>"
      ],
      "text/plain": [
       "      Name  Class  Height  Weight  No. of Subject   Fee Teachers\n",
       "0     Uday     10     5.2      56               4  2000   Govind\n",
       "5  Karthik      4     4.3      47               2   400   Govind\n",
       "8    Sunil      8     6.0      72               6  1200   Govind"
      ]
     },
     "execution_count": 35,
     "metadata": {},
     "output_type": "execute_result"
    }
   ],
   "source": [
    "HD[HD.Teachers==\"Govind\"]"
   ]
  },
  {
   "cell_type": "code",
   "execution_count": 36,
   "id": "fdcf275c",
   "metadata": {},
   "outputs": [
    {
     "name": "stderr",
     "output_type": "stream",
     "text": [
      "C:\\Users\\Language Lab\\AppData\\Local\\Temp\\ipykernel_11868\\394734062.py:1: FutureWarning: The default value of numeric_only in DataFrameGroupBy.mean is deprecated. In a future version, numeric_only will default to False. Either specify numeric_only or select only columns which should be valid for the function.\n",
      "  HD.groupby([\"Class\"]).mean()\n"
     ]
    },
    {
     "data": {
      "text/html": [
       "<div>\n",
       "<style scoped>\n",
       "    .dataframe tbody tr th:only-of-type {\n",
       "        vertical-align: middle;\n",
       "    }\n",
       "\n",
       "    .dataframe tbody tr th {\n",
       "        vertical-align: top;\n",
       "    }\n",
       "\n",
       "    .dataframe thead th {\n",
       "        text-align: right;\n",
       "    }\n",
       "</style>\n",
       "<table border=\"1\" class=\"dataframe\">\n",
       "  <thead>\n",
       "    <tr style=\"text-align: right;\">\n",
       "      <th></th>\n",
       "      <th>Height</th>\n",
       "      <th>Weight</th>\n",
       "      <th>No. of Subject</th>\n",
       "      <th>Fee</th>\n",
       "    </tr>\n",
       "    <tr>\n",
       "      <th>Class</th>\n",
       "      <th></th>\n",
       "      <th></th>\n",
       "      <th></th>\n",
       "      <th></th>\n",
       "    </tr>\n",
       "  </thead>\n",
       "  <tbody>\n",
       "    <tr>\n",
       "      <th>4</th>\n",
       "      <td>3.900000</td>\n",
       "      <td>46.5</td>\n",
       "      <td>2.5</td>\n",
       "      <td>450.000000</td>\n",
       "    </tr>\n",
       "    <tr>\n",
       "      <th>5</th>\n",
       "      <td>4.900000</td>\n",
       "      <td>60.0</td>\n",
       "      <td>5.0</td>\n",
       "      <td>600.000000</td>\n",
       "    </tr>\n",
       "    <tr>\n",
       "      <th>7</th>\n",
       "      <td>4.100000</td>\n",
       "      <td>48.0</td>\n",
       "      <td>5.0</td>\n",
       "      <td>900.000000</td>\n",
       "    </tr>\n",
       "    <tr>\n",
       "      <th>8</th>\n",
       "      <td>4.933333</td>\n",
       "      <td>61.0</td>\n",
       "      <td>5.0</td>\n",
       "      <td>1533.333333</td>\n",
       "    </tr>\n",
       "    <tr>\n",
       "      <th>10</th>\n",
       "      <td>5.750000</td>\n",
       "      <td>60.0</td>\n",
       "      <td>3.5</td>\n",
       "      <td>2250.000000</td>\n",
       "    </tr>\n",
       "  </tbody>\n",
       "</table>\n",
       "</div>"
      ],
      "text/plain": [
       "         Height  Weight  No. of Subject          Fee\n",
       "Class                                               \n",
       "4      3.900000    46.5             2.5   450.000000\n",
       "5      4.900000    60.0             5.0   600.000000\n",
       "7      4.100000    48.0             5.0   900.000000\n",
       "8      4.933333    61.0             5.0  1533.333333\n",
       "10     5.750000    60.0             3.5  2250.000000"
      ]
     },
     "execution_count": 36,
     "metadata": {},
     "output_type": "execute_result"
    }
   ],
   "source": [
    "HD.groupby([\"Class\"]).mean()"
   ]
  },
  {
   "cell_type": "code",
   "execution_count": 41,
   "id": "1324e434",
   "metadata": {},
   "outputs": [
    {
     "data": {
      "text/plain": [
       "<Axes: >"
      ]
     },
     "execution_count": 41,
     "metadata": {},
     "output_type": "execute_result"
    },
    {
     "data": {
      "image/png": "[encoded data removed]",
      "text/plain": [
       "<Figure size 640x480 with 1 Axes>"
      ]
     },
     "metadata": {},
     "output_type": "display_data"
    }
   ],
   "source": [
    "HD.Fee.plot(kind=\"bar\")"
   ]
  },
  {
   "cell_type": "code",
   "execution_count": 38,
   "id": "73d12868",
   "metadata": {},
   "outputs": [
    {
     "data": {
      "text/html": [
       "<div>\n",
       "<style scoped>\n",
       "    .dataframe tbody tr th:only-of-type {\n",
       "        vertical-align: middle;\n",
       "    }\n",
       "\n",
       "    .dataframe tbody tr th {\n",
       "        vertical-align: top;\n",
       "    }\n",
       "\n",
       "    .dataframe thead th {\n",
       "        text-align: right;\n",
       "    }\n",
       "</style>\n",
       "<table border=\"1\" class=\"dataframe\">\n",
       "  <thead>\n",
       "    <tr style=\"text-align: right;\">\n",
       "      <th></th>\n",
       "      <th>Name</th>\n",
       "      <th>Class</th>\n",
       "      <th>Height</th>\n",
       "      <th>Weight</th>\n",
       "      <th>No. of Subject</th>\n",
       "      <th>Fee</th>\n",
       "      <th>Teachers</th>\n",
       "    </tr>\n",
       "  </thead>\n",
       "  <tbody>\n",
       "    <tr>\n",
       "      <th>0</th>\n",
       "      <td>Uday</td>\n",
       "      <td>10</td>\n",
       "      <td>5.2</td>\n",
       "      <td>56</td>\n",
       "      <td>4</td>\n",
       "      <td>2000</td>\n",
       "      <td>Govind</td>\n",
       "    </tr>\n",
       "    <tr>\n",
       "      <th>1</th>\n",
       "      <td>Shashi</td>\n",
       "      <td>8</td>\n",
       "      <td>4.0</td>\n",
       "      <td>48</td>\n",
       "      <td>2</td>\n",
       "      <td>1700</td>\n",
       "      <td>Komal</td>\n",
       "    </tr>\n",
       "    <tr>\n",
       "      <th>2</th>\n",
       "      <td>Nihar</td>\n",
       "      <td>7</td>\n",
       "      <td>3.2</td>\n",
       "      <td>38</td>\n",
       "      <td>6</td>\n",
       "      <td>1000</td>\n",
       "      <td>Gokul</td>\n",
       "    </tr>\n",
       "    <tr>\n",
       "      <th>3</th>\n",
       "      <td>Chiranth</td>\n",
       "      <td>4</td>\n",
       "      <td>3.5</td>\n",
       "      <td>46</td>\n",
       "      <td>3</td>\n",
       "      <td>500</td>\n",
       "      <td>Komal</td>\n",
       "    </tr>\n",
       "    <tr>\n",
       "      <th>4</th>\n",
       "      <td>Akash</td>\n",
       "      <td>8</td>\n",
       "      <td>4.8</td>\n",
       "      <td>63</td>\n",
       "      <td>7</td>\n",
       "      <td>1700</td>\n",
       "      <td>Yathish</td>\n",
       "    </tr>\n",
       "    <tr>\n",
       "      <th>5</th>\n",
       "      <td>Karthik</td>\n",
       "      <td>4</td>\n",
       "      <td>4.3</td>\n",
       "      <td>47</td>\n",
       "      <td>2</td>\n",
       "      <td>400</td>\n",
       "      <td>Govind</td>\n",
       "    </tr>\n",
       "    <tr>\n",
       "      <th>6</th>\n",
       "      <td>Vinod</td>\n",
       "      <td>5</td>\n",
       "      <td>4.9</td>\n",
       "      <td>60</td>\n",
       "      <td>5</td>\n",
       "      <td>600</td>\n",
       "      <td>Lakshman</td>\n",
       "    </tr>\n",
       "    <tr>\n",
       "      <th>7</th>\n",
       "      <td>Ajay</td>\n",
       "      <td>7</td>\n",
       "      <td>5.0</td>\n",
       "      <td>58</td>\n",
       "      <td>4</td>\n",
       "      <td>800</td>\n",
       "      <td>Pawan</td>\n",
       "    </tr>\n",
       "    <tr>\n",
       "      <th>8</th>\n",
       "      <td>Sunil</td>\n",
       "      <td>8</td>\n",
       "      <td>6.0</td>\n",
       "      <td>72</td>\n",
       "      <td>6</td>\n",
       "      <td>1200</td>\n",
       "      <td>Govind</td>\n",
       "    </tr>\n",
       "    <tr>\n",
       "      <th>9</th>\n",
       "      <td>Vasu</td>\n",
       "      <td>10</td>\n",
       "      <td>6.3</td>\n",
       "      <td>64</td>\n",
       "      <td>3</td>\n",
       "      <td>2500</td>\n",
       "      <td>Lakshman</td>\n",
       "    </tr>\n",
       "  </tbody>\n",
       "</table>\n",
       "</div>"
      ],
      "text/plain": [
       "       Name  Class  Height  Weight  No. of Subject   Fee  Teachers\n",
       "0      Uday     10     5.2      56               4  2000    Govind\n",
       "1    Shashi      8     4.0      48               2  1700     Komal\n",
       "2     Nihar      7     3.2      38               6  1000     Gokul\n",
       "3  Chiranth      4     3.5      46               3   500     Komal\n",
       "4     Akash      8     4.8      63               7  1700   Yathish\n",
       "5   Karthik      4     4.3      47               2   400    Govind\n",
       "6     Vinod      5     4.9      60               5   600  Lakshman\n",
       "7      Ajay      7     5.0      58               4   800     Pawan\n",
       "8     Sunil      8     6.0      72               6  1200    Govind\n",
       "9      Vasu     10     6.3      64               3  2500  Lakshman"
      ]
     },
     "execution_count": 38,
     "metadata": {},
     "output_type": "execute_result"
    }
   ],
   "source": [
    "HD"
   ]
  },
  {
   "cell_type": "code",
   "execution_count": 39,
   "id": "2d1548d1",
   "metadata": {},
   "outputs": [
    {
     "data": {
      "text/plain": [
       "Text(0, 0.5, 'Y-axis Label')"
      ]
     },
     "execution_count": 39,
     "metadata": {},
     "output_type": "execute_result"
    },
    {
     "data": {
      "image/png": "[encoded data removed]",
      "text/plain": [
       "<Figure size 640x480 with 1 Axes>"
      ]
     },
     "metadata": {},
     "output_type": "display_data"
    }
   ],
   "source": [
    "# Create a DataFrame\n",
    "data = {'x_values': [1, 2, 3, 4, 5],\n",
    "        'y_values': [2, 4, 6, 8, 10]}\n",
    "df = pd.DataFrame(data)\n",
    "\n",
    "# Plot using Pandas with labels\n",
    "ax = df.plot(x='x_values', y='y_values', kind='line', title='My Plot')\n",
    "ax.set_xlabel('X-axis Label')\n",
    "ax.set_ylabel('Y-axis Label')"
   ]
  },
  {
   "cell_type": "code",
   "execution_count": 40,
   "id": "325c2ef7",
   "metadata": {},
   "outputs": [
    {
     "ename": "SyntaxError",
     "evalue": "invalid syntax (4035295934.py, line 8)",
     "output_type": "error",
     "traceback": [
      "\u001b[1;36m  Cell \u001b[1;32mIn[40], line 8\u001b[1;36m\u001b[0m\n\u001b[1;33m    df.('Workser Name')\u001b[0m\n\u001b[1;37m       ^\u001b[0m\n\u001b[1;31mSyntaxError\u001b[0m\u001b[1;31m:\u001b[0m invalid syntax\n"
     ]
    }
   ],
   "source": [
    "# Create a DataFrame\n",
    "data = {'Name': [\"Kavana\", \"Ganesh\", \"Rupesh\", \"Karthik\", \"Komal\"],\n",
    "        'Hours': [2, 4, 6, 8, 10]}\n",
    "df = pd.DataFrame(data)\n",
    "\n",
    "# Plot using Pandas with labels\n",
    "df_plot = df.plot(x='Name', y='Hours', kind='line', title='Workers')\n",
    "df.('Workser Name')\n",
    "df.set_ylabel('Hours')\n",
    "df.plot()"
   ]
  },
  {
   "cell_type": "code",
   "execution_count": 42,
   "id": "6087fc00",
   "metadata": {},
   "outputs": [
    {
     "data": {
      "text/plain": [
       "<Axes: >"
      ]
     },
     "execution_count": 42,
     "metadata": {},
     "output_type": "execute_result"
    },
    {
     "data": {
      "image/png": "[encoded data removed]",
      "text/plain": [
       "<Figure size 640x480 with 1 Axes>"
      ]
     },
     "metadata": {},
     "output_type": "display_data"
    },
    {
     "data": {
      "image/png": "[encoded data removed]",
      "text/plain": [
       "<Figure size 640x480 with 1 Axes>"
      ]
     },
     "metadata": {},
     "output_type": "display_data"
    }
   ],
   "source": [
    "import pandas as pd\n",
    "\n",
    "# Create a DataFrame\n",
    "data = {'x_values': [1, 2, 3, 4, 5],\n",
    "        'y_values': [2, 4, 6, 8, 10]}\n",
    "df = pd.DataFrame(data)\n",
    "\n",
    "# Plot using Pandas with labels\n",
    "ax = df.plot(x='x_values', y='y_values', kind='line', title='My Plot')\n",
    "ax.set_title('My Plot')\n",
    "ax.set_xlabel('X-axis Label')\n",
    "ax.set_ylabel('Y-axis Label')\n",
    "\n",
    "# Display the plot\n",
    "df.plot()"
   ]
  },
  {
   "cell_type": "code",
   "execution_count": null,
   "id": "0119bd80",
   "metadata": {},
   "outputs": [],
   "source": []
  },
  {
   "cell_type": "code",
   "execution_count": null,
   "id": "22139aa6",
   "metadata": {},
   "outputs": [],
   "source": []
  }
 ],
 "metadata": {
  "kernelspec": {
   "display_name": "Python 3 (ipykernel)",
   "language": "python",
   "name": "python3"
  },
  "language_info": {
   "codemirror_mode": {
    "name": "ipython",
    "version": 3
   },
   "file_extension": ".py",
   "mimetype": "text/x-python",
   "name": "python",
   "nbconvert_exporter": "python",
   "pygments_lexer": "ipython3",
   "version": "3.10.9"
  }
 },
 "nbformat": 4,
 "nbformat_minor": 5
}
