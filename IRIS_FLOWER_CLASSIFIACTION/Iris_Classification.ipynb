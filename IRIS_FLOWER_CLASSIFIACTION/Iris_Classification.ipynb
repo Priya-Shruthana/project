{
 "cells": [
  {
   "cell_type": "markdown",
   "id": "aec2180f",
   "metadata": {},
   "source": [
    "# Iris class prediction"
   ]
  },
  {
   "cell_type": "code",
   "execution_count": 16,
   "id": "0ab72ac6",
   "metadata": {},
   "outputs": [
    {
     "name": "stdout",
     "output_type": "stream",
     "text": [
      "pandas version is: 1.5.3\n",
      "numpy version is:1.23.5\n"
     ]
    }
   ],
   "source": [
    "import pandas\n",
    "print('pandas version is: {}'.format(pandas.__version__))\n",
    "import numpy\n",
    "print('numpy version is:{}'.format(numpy.__version__))\n",
    "import seaborn as sns\n",
    "import sklearn\n",
    "import matplotlib.pyplot as plt\n",
    "%matplotlib inline"
   ]
  },
  {
   "cell_type": "markdown",
   "id": "439a1034",
   "metadata": {},
   "source": [
    "# Importing data set"
   ]
  },
  {
   "cell_type": "code",
   "execution_count": 17,
   "id": "2a47bd63",
   "metadata": {},
   "outputs": [],
   "source": [
    "import pandas as pd\n",
    "iris = pd.read_csv('iris.csv')"
   ]
  },
  {
   "cell_type": "code",
   "execution_count": 18,
   "id": "0d589283",
   "metadata": {},
   "outputs": [
    {
     "data": {
      "text/html": [
       "<div>\n",
       "<style scoped>\n",
       "    .dataframe tbody tr th:only-of-type {\n",
       "        vertical-align: middle;\n",
       "    }\n",
       "\n",
       "    .dataframe tbody tr th {\n",
       "        vertical-align: top;\n",
       "    }\n",
       "\n",
       "    .dataframe thead th {\n",
       "        text-align: right;\n",
       "    }\n",
       "</style>\n",
       "<table border=\"1\" class=\"dataframe\">\n",
       "  <thead>\n",
       "    <tr style=\"text-align: right;\">\n",
       "      <th></th>\n",
       "      <th>sepallength</th>\n",
       "      <th>sepalwidth</th>\n",
       "      <th>petallength</th>\n",
       "      <th>petalwidth</th>\n",
       "      <th>class</th>\n",
       "    </tr>\n",
       "  </thead>\n",
       "  <tbody>\n",
       "    <tr>\n",
       "      <th>0</th>\n",
       "      <td>5.1</td>\n",
       "      <td>3.5</td>\n",
       "      <td>1.4</td>\n",
       "      <td>0.2</td>\n",
       "      <td>Iris-setosa</td>\n",
       "    </tr>\n",
       "    <tr>\n",
       "      <th>1</th>\n",
       "      <td>4.9</td>\n",
       "      <td>3.0</td>\n",
       "      <td>1.4</td>\n",
       "      <td>0.2</td>\n",
       "      <td>Iris-setosa</td>\n",
       "    </tr>\n",
       "    <tr>\n",
       "      <th>2</th>\n",
       "      <td>4.7</td>\n",
       "      <td>3.2</td>\n",
       "      <td>1.3</td>\n",
       "      <td>0.2</td>\n",
       "      <td>Iris-setosa</td>\n",
       "    </tr>\n",
       "    <tr>\n",
       "      <th>3</th>\n",
       "      <td>4.6</td>\n",
       "      <td>3.1</td>\n",
       "      <td>1.5</td>\n",
       "      <td>0.2</td>\n",
       "      <td>Iris-setosa</td>\n",
       "    </tr>\n",
       "    <tr>\n",
       "      <th>4</th>\n",
       "      <td>5.0</td>\n",
       "      <td>3.6</td>\n",
       "      <td>1.4</td>\n",
       "      <td>0.2</td>\n",
       "      <td>Iris-setosa</td>\n",
       "    </tr>\n",
       "    <tr>\n",
       "      <th>5</th>\n",
       "      <td>5.4</td>\n",
       "      <td>3.9</td>\n",
       "      <td>1.7</td>\n",
       "      <td>0.4</td>\n",
       "      <td>Iris-setosa</td>\n",
       "    </tr>\n",
       "    <tr>\n",
       "      <th>6</th>\n",
       "      <td>4.6</td>\n",
       "      <td>3.4</td>\n",
       "      <td>1.4</td>\n",
       "      <td>0.3</td>\n",
       "      <td>Iris-setosa</td>\n",
       "    </tr>\n",
       "    <tr>\n",
       "      <th>7</th>\n",
       "      <td>5.0</td>\n",
       "      <td>3.4</td>\n",
       "      <td>1.5</td>\n",
       "      <td>0.2</td>\n",
       "      <td>Iris-setosa</td>\n",
       "    </tr>\n",
       "    <tr>\n",
       "      <th>8</th>\n",
       "      <td>4.4</td>\n",
       "      <td>2.9</td>\n",
       "      <td>1.4</td>\n",
       "      <td>0.2</td>\n",
       "      <td>Iris-setosa</td>\n",
       "    </tr>\n",
       "    <tr>\n",
       "      <th>9</th>\n",
       "      <td>4.9</td>\n",
       "      <td>3.1</td>\n",
       "      <td>1.5</td>\n",
       "      <td>0.1</td>\n",
       "      <td>Iris-setosa</td>\n",
       "    </tr>\n",
       "    <tr>\n",
       "      <th>10</th>\n",
       "      <td>5.4</td>\n",
       "      <td>3.7</td>\n",
       "      <td>1.5</td>\n",
       "      <td>0.2</td>\n",
       "      <td>Iris-setosa</td>\n",
       "    </tr>\n",
       "    <tr>\n",
       "      <th>11</th>\n",
       "      <td>4.8</td>\n",
       "      <td>3.4</td>\n",
       "      <td>1.6</td>\n",
       "      <td>0.2</td>\n",
       "      <td>Iris-setosa</td>\n",
       "    </tr>\n",
       "    <tr>\n",
       "      <th>12</th>\n",
       "      <td>4.8</td>\n",
       "      <td>3.0</td>\n",
       "      <td>1.4</td>\n",
       "      <td>0.1</td>\n",
       "      <td>Iris-setosa</td>\n",
       "    </tr>\n",
       "    <tr>\n",
       "      <th>13</th>\n",
       "      <td>4.3</td>\n",
       "      <td>3.0</td>\n",
       "      <td>1.1</td>\n",
       "      <td>0.1</td>\n",
       "      <td>Iris-setosa</td>\n",
       "    </tr>\n",
       "    <tr>\n",
       "      <th>14</th>\n",
       "      <td>5.8</td>\n",
       "      <td>4.0</td>\n",
       "      <td>1.2</td>\n",
       "      <td>0.2</td>\n",
       "      <td>Iris-setosa</td>\n",
       "    </tr>\n",
       "  </tbody>\n",
       "</table>\n",
       "</div>"
      ],
      "text/plain": [
       "    sepallength  sepalwidth  petallength  petalwidth        class\n",
       "0           5.1         3.5          1.4         0.2  Iris-setosa\n",
       "1           4.9         3.0          1.4         0.2  Iris-setosa\n",
       "2           4.7         3.2          1.3         0.2  Iris-setosa\n",
       "3           4.6         3.1          1.5         0.2  Iris-setosa\n",
       "4           5.0         3.6          1.4         0.2  Iris-setosa\n",
       "5           5.4         3.9          1.7         0.4  Iris-setosa\n",
       "6           4.6         3.4          1.4         0.3  Iris-setosa\n",
       "7           5.0         3.4          1.5         0.2  Iris-setosa\n",
       "8           4.4         2.9          1.4         0.2  Iris-setosa\n",
       "9           4.9         3.1          1.5         0.1  Iris-setosa\n",
       "10          5.4         3.7          1.5         0.2  Iris-setosa\n",
       "11          4.8         3.4          1.6         0.2  Iris-setosa\n",
       "12          4.8         3.0          1.4         0.1  Iris-setosa\n",
       "13          4.3         3.0          1.1         0.1  Iris-setosa\n",
       "14          5.8         4.0          1.2         0.2  Iris-setosa"
      ]
     },
     "execution_count": 18,
     "metadata": {},
     "output_type": "execute_result"
    }
   ],
   "source": [
    "iris.head(15)"
   ]
  },
  {
   "cell_type": "markdown",
   "id": "d5ba11f4",
   "metadata": {},
   "source": [
    "\n",
    "# Analyse and Visualize data set"
   ]
  },
  {
   "cell_type": "code",
   "execution_count": 19,
   "id": "cd411dce",
   "metadata": {},
   "outputs": [
    {
     "name": "stdout",
     "output_type": "stream",
     "text": [
      "150\n"
     ]
    }
   ],
   "source": [
    "print(len(iris['class']))"
   ]
  },
  {
   "cell_type": "code",
   "execution_count": 20,
   "id": "83f9cca6",
   "metadata": {},
   "outputs": [
    {
     "name": "stdout",
     "output_type": "stream",
     "text": [
      "sepallength\n",
      "sepalwidth\n",
      "petallength\n",
      "petalwidth\n",
      "class\n"
     ]
    }
   ],
   "source": [
    "for col in iris.columns:\n",
    "    print(col)"
   ]
  },
  {
   "cell_type": "code",
   "execution_count": 21,
   "id": "1be26107",
   "metadata": {},
   "outputs": [
    {
     "name": "stdout",
     "output_type": "stream",
     "text": [
      "class\n",
      "Iris-setosa        50\n",
      "Iris-versicolor    50\n",
      "Iris-virginica     50\n",
      "dtype: int64\n"
     ]
    }
   ],
   "source": [
    "print(iris.groupby('class').size())"
   ]
  },
  {
   "cell_type": "code",
   "execution_count": 22,
   "id": "c8355c21",
   "metadata": {},
   "outputs": [
    {
     "data": {
      "text/plain": [
       "<Axes: xlabel='class', ylabel='petalwidth'>"
      ]
     },
     "execution_count": 22,
     "metadata": {},
     "output_type": "execute_result"
    },
    {
     "data": {
      "image/png": "[encoded data removed]",
      "text/plain": [
       "<Figure size 1500x1000 with 4 Axes>"
      ]
     },
     "metadata": {},
     "output_type": "display_data"
    }
   ],
   "source": [
    "plt.figure(figsize = (15,10))\n",
    "plt.subplot(2,2,1)\n",
    "sns.boxplot(x= 'class', y='sepallength', data=iris)\n",
    "plt.subplot(2,2,2)\n",
    "sns.boxplot(x= 'class', y='sepalwidth', data=iris)\n",
    "plt.subplot(2,2,3)\n",
    "sns.boxplot(x='class', y='petallength', data=iris)\n",
    "plt.subplot(2,2,4)\n",
    "sns.boxplot(x= 'class', y= 'petalwidth', data=iris)"
   ]
  },
  {
   "cell_type": "code",
   "execution_count": 23,
   "id": "d88f0647",
   "metadata": {},
   "outputs": [],
   "source": [
    "#data cleaning"
   ]
  },
  {
   "cell_type": "code",
   "execution_count": 24,
   "id": "653d7e84",
   "metadata": {},
   "outputs": [
    {
     "data": {
      "text/plain": [
       "False"
      ]
     },
     "execution_count": 24,
     "metadata": {},
     "output_type": "execute_result"
    }
   ],
   "source": [
    "iris.isnull().values.any()"
   ]
  },
  {
   "cell_type": "code",
   "execution_count": 25,
   "id": "1f1b8550",
   "metadata": {},
   "outputs": [
    {
     "name": "stdout",
     "output_type": "stream",
     "text": [
      "<class 'pandas.core.frame.DataFrame'>\n",
      "RangeIndex: 150 entries, 0 to 149\n",
      "Data columns (total 5 columns):\n",
      " #   Column       Non-Null Count  Dtype  \n",
      "---  ------       --------------  -----  \n",
      " 0   sepallength  150 non-null    float64\n",
      " 1   sepalwidth   150 non-null    float64\n",
      " 2   petallength  150 non-null    float64\n",
      " 3   petalwidth   150 non-null    float64\n",
      " 4   class        150 non-null    object \n",
      "dtypes: float64(4), object(1)\n",
      "memory usage: 6.0+ KB\n"
     ]
    }
   ],
   "source": [
    "iris.info()"
   ]
  },
  {
   "cell_type": "markdown",
   "id": "db81128c",
   "metadata": {},
   "source": [
    "# Splitting up of Data"
   ]
  },
  {
   "cell_type": "code",
   "execution_count": 26,
   "id": "19792761",
   "metadata": {},
   "outputs": [],
   "source": [
    "from sklearn.model_selection import train_test_split\n",
    "array = iris.values\n",
    "X = array[:,0:4]\n",
    "Y = array[:,4]\n",
    "x_train, x_test, y_train, y_test = train_test_split(X,Y, test_size=0.3, random_state=0)"
   ]
  },
  {
   "cell_type": "markdown",
   "id": "4e17ae1c",
   "metadata": {},
   "source": [
    "# Apply Algorithms and Evaluate"
   ]
  },
  {
   "cell_type": "markdown",
   "id": "9f432dbe",
   "metadata": {},
   "source": [
    "# SUPPORT VECTOR CLASSIFIER"
   ]
  },
  {
   "cell_type": "code",
   "execution_count": 27,
   "id": "ac8064ed",
   "metadata": {},
   "outputs": [
    {
     "name": "stdout",
     "output_type": "stream",
     "text": [
      "Accuracy :  98.0\n"
     ]
    }
   ],
   "source": [
    "from sklearn.svm import SVC\n",
    "from sklearn.metrics import accuracy_score\n",
    "svc = SVC(max_iter = 1000, gamma = 'auto')\n",
    "svc.fit(x_train, y_train)\n",
    "y_pred = svc.predict(x_test)\n",
    "acc_svc = round(accuracy_score(y_pred, y_test), 2) * 100\n",
    "print(\"Accuracy : \", acc_svc)"
   ]
  },
  {
   "cell_type": "markdown",
   "id": "a8c845ed",
   "metadata": {},
   "source": [
    "# DECISION TREE CLASSIFIER"
   ]
  },
  {
   "cell_type": "code",
   "execution_count": 28,
   "id": "f701882d",
   "metadata": {},
   "outputs": [
    {
     "name": "stdout",
     "output_type": "stream",
     "text": [
      "Accuracy :  98.0\n"
     ]
    }
   ],
   "source": [
    "from sklearn.tree import DecisionTreeClassifier\n",
    "\n",
    "decisiontree = DecisionTreeClassifier(random_state = 0)\n",
    "decisiontree.fit(x_train, y_train)\n",
    "y_pred = decisiontree.predict(x_test)\n",
    "acc_decisiontree = round(accuracy_score(y_pred, y_test), 2 ) *100\n",
    "print(\"Accuracy : \", acc_decisiontree)"
   ]
  },
  {
   "cell_type": "markdown",
   "id": "78f4b550",
   "metadata": {},
   "source": [
    "# LOGISTIC REGRESSION"
   ]
  },
  {
   "cell_type": "code",
   "execution_count": 29,
   "id": "6bc52334",
   "metadata": {},
   "outputs": [
    {
     "name": "stdout",
     "output_type": "stream",
     "text": [
      "Accuracy :  98.0\n"
     ]
    }
   ],
   "source": [
    "from sklearn.linear_model import LogisticRegression\n",
    "logreg = LogisticRegression(max_iter = 1000)\n",
    "logreg.fit(x_train, y_train)\n",
    "y_pred = logreg.predict(x_test)\n",
    "acc_logreg = round(accuracy_score(y_pred, y_test), 2) * 100\n",
    "print(\"Accuracy : \", acc_logreg)"
   ]
  },
  {
   "cell_type": "code",
   "execution_count": null,
   "id": "e88641f9",
   "metadata": {},
   "outputs": [],
   "source": []
  },
  {
   "cell_type": "code",
   "execution_count": null,
   "id": "d21c23f8",
   "metadata": {},
   "outputs": [],
   "source": []
  },
  {
   "cell_type": "code",
   "execution_count": null,
   "id": "3ccb810a",
   "metadata": {},
   "outputs": [],
   "source": []
  }
 ],
 "metadata": {
  "kernelspec": {
   "display_name": "Python 3 (ipykernel)",
   "language": "python",
   "name": "python3"
  },
  "language_info": {
   "codemirror_mode": {
    "name": "ipython",
    "version": 3
   },
   "file_extension": ".py",
   "mimetype": "text/x-python",
   "name": "python",
   "nbconvert_exporter": "python",
   "pygments_lexer": "ipython3",
   "version": "3.10.9"
  }
 },
 "nbformat": 4,
 "nbformat_minor": 5
}
