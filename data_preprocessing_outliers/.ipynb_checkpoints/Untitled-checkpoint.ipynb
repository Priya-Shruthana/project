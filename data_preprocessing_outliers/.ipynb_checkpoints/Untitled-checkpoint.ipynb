{
 "cells": [
  {
   "cell_type": "markdown",
   "id": "db7d19d8",
   "metadata": {},
   "source": [
    "#Data Preprocessing"
   ]
  },
  {
   "cell_type": "code",
   "execution_count": null,
   "id": "01a52c76",
   "metadata": {},
   "outputs": [],
   "source": [
    "import pandas as pd\n",
    "titanic_df = pd.read_csv(\"titanic.csv\")"
   ]
  },
  {
   "cell_type": "code",
   "execution_count": null,
   "id": "85cad5c4",
   "metadata": {},
   "outputs": [],
   "source": [
    "titanic_df.isnull().sum()"
   ]
  },
  {
   "cell_type": "code",
   "execution_count": null,
   "id": "6d3e1081",
   "metadata": {},
   "outputs": [],
   "source": [
    "df = titanic_df.drop(['col_name'],axis=1)"
   ]
  },
  {
   "cell_type": "code",
   "execution_count": null,
   "id": "e81f4cf1",
   "metadata": {},
   "outputs": [],
   "source": [
    "#Replacing the missing values with arbitrary value\n",
    "titanic_df['deck'] = titanic_df['deck'].fillna('C')"
   ]
  },
  {
   "cell_type": "code",
   "execution_count": null,
   "id": "14ff678b",
   "metadata": {},
   "outputs": [],
   "source": [
    "#Replacing the missing values for numerical columns with mean\n",
    "mean = titanic_df['age'].mean()\n",
    "titanic_df['age'] = titanic_df['age'].fillna(mean)"
   ]
  },
  {
   "cell_type": "code",
   "execution_count": null,
   "id": "4608d6bd",
   "metadata": {},
   "outputs": [],
   "source": [
    "#Replacing the missing values for categorical columns with mode\n",
    "mode = titanic_df['deck'].mode()[0]\n",
    "titanic_df['deck'] = titanic_df['deck'].fillna(mode)"
   ]
  },
  {
   "cell_type": "code",
   "execution_count": null,
   "id": "01d817a8",
   "metadata": {},
   "outputs": [],
   "source": [
    "#Replacing the missing values for numerical columns with median\n",
    "median = titanic_df['age'].median()\n",
    "titanic_df['age']= titanic_df['age'].fillna(median)"
   ]
  }
 ],
 "metadata": {
  "kernelspec": {
   "display_name": "Python 3 (ipykernel)",
   "language": "python",
   "name": "python3"
  },
  "language_info": {
   "codemirror_mode": {
    "name": "ipython",
    "version": 3
   },
   "file_extension": ".py",
   "mimetype": "text/x-python",
   "name": "python",
   "nbconvert_exporter": "python",
   "pygments_lexer": "ipython3",
   "version": "3.10.9"
  }
 },
 "nbformat": 4,
 "nbformat_minor": 5
}
