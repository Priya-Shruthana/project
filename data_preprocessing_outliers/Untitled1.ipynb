{
 "cells": [
  {
   "cell_type": "code",
   "execution_count": 1,
   "id": "b7b02456",
   "metadata": {},
   "outputs": [
    {
     "data": {
      "text/html": [
       "<div>\n",
       "<style scoped>\n",
       "    .dataframe tbody tr th:only-of-type {\n",
       "        vertical-align: middle;\n",
       "    }\n",
       "\n",
       "    .dataframe tbody tr th {\n",
       "        vertical-align: top;\n",
       "    }\n",
       "\n",
       "    .dataframe thead th {\n",
       "        text-align: right;\n",
       "    }\n",
       "</style>\n",
       "<table border=\"1\" class=\"dataframe\">\n",
       "  <thead>\n",
       "    <tr style=\"text-align: right;\">\n",
       "      <th></th>\n",
       "      <th>Name</th>\n",
       "      <th>Education</th>\n",
       "    </tr>\n",
       "  </thead>\n",
       "  <tbody>\n",
       "    <tr>\n",
       "      <th>0</th>\n",
       "      <td>Abhi</td>\n",
       "      <td>SSLC</td>\n",
       "    </tr>\n",
       "    <tr>\n",
       "      <th>1</th>\n",
       "      <td>Shruu</td>\n",
       "      <td>LKG</td>\n",
       "    </tr>\n",
       "    <tr>\n",
       "      <th>2</th>\n",
       "      <td>Priiii</td>\n",
       "      <td>PUC</td>\n",
       "    </tr>\n",
       "    <tr>\n",
       "      <th>3</th>\n",
       "      <td>Aishii</td>\n",
       "      <td>Diploma</td>\n",
       "    </tr>\n",
       "    <tr>\n",
       "      <th>4</th>\n",
       "      <td>Ullekha</td>\n",
       "      <td>LKG</td>\n",
       "    </tr>\n",
       "    <tr>\n",
       "      <th>5</th>\n",
       "      <td>Kaavi</td>\n",
       "      <td>SSLC</td>\n",
       "    </tr>\n",
       "  </tbody>\n",
       "</table>\n",
       "</div>"
      ],
      "text/plain": [
       "      Name Education\n",
       "0     Abhi      SSLC\n",
       "1    Shruu       LKG\n",
       "2   Priiii       PUC\n",
       "3   Aishii   Diploma\n",
       "4  Ullekha       LKG\n",
       "5    Kaavi      SSLC"
      ]
     },
     "execution_count": 1,
     "metadata": {},
     "output_type": "execute_result"
    }
   ],
   "source": [
    "import pandas as pd\n",
    "d=pd.DataFrame({\"Name\":[\"Abhi\",\"Shruu\",\"Priiii\",\"Aishii\",\"Ullekha\",\"Kaavi\"],\n",
    "                \"Education\":[\"SSLC\",\"LKG\",\"PUC\",\"Diploma\",\"LKG\",\"SSLC\"]})\n",
    "d"
   ]
  },
  {
   "cell_type": "code",
   "execution_count": 4,
   "id": "8e8eac37",
   "metadata": {},
   "outputs": [
    {
     "data": {
      "text/html": [
       "<div>\n",
       "<style scoped>\n",
       "    .dataframe tbody tr th:only-of-type {\n",
       "        vertical-align: middle;\n",
       "    }\n",
       "\n",
       "    .dataframe tbody tr th {\n",
       "        vertical-align: top;\n",
       "    }\n",
       "\n",
       "    .dataframe thead th {\n",
       "        text-align: right;\n",
       "    }\n",
       "</style>\n",
       "<table border=\"1\" class=\"dataframe\">\n",
       "  <thead>\n",
       "    <tr style=\"text-align: right;\">\n",
       "      <th></th>\n",
       "      <th>Name</th>\n",
       "      <th>Education</th>\n",
       "      <th>Rank</th>\n",
       "    </tr>\n",
       "  </thead>\n",
       "  <tbody>\n",
       "    <tr>\n",
       "      <th>0</th>\n",
       "      <td>Abhi</td>\n",
       "      <td>SSLC</td>\n",
       "      <td>5.5</td>\n",
       "    </tr>\n",
       "    <tr>\n",
       "      <th>1</th>\n",
       "      <td>Shruu</td>\n",
       "      <td>LKG</td>\n",
       "      <td>2.5</td>\n",
       "    </tr>\n",
       "    <tr>\n",
       "      <th>2</th>\n",
       "      <td>Priiii</td>\n",
       "      <td>PUC</td>\n",
       "      <td>4.0</td>\n",
       "    </tr>\n",
       "    <tr>\n",
       "      <th>3</th>\n",
       "      <td>Aishii</td>\n",
       "      <td>Diploma</td>\n",
       "      <td>1.0</td>\n",
       "    </tr>\n",
       "    <tr>\n",
       "      <th>4</th>\n",
       "      <td>Ullekha</td>\n",
       "      <td>LKG</td>\n",
       "      <td>2.5</td>\n",
       "    </tr>\n",
       "    <tr>\n",
       "      <th>5</th>\n",
       "      <td>Kaavi</td>\n",
       "      <td>SSLC</td>\n",
       "      <td>5.5</td>\n",
       "    </tr>\n",
       "  </tbody>\n",
       "</table>\n",
       "</div>"
      ],
      "text/plain": [
       "      Name Education  Rank\n",
       "0     Abhi      SSLC   5.5\n",
       "1    Shruu       LKG   2.5\n",
       "2   Priiii       PUC   4.0\n",
       "3   Aishii   Diploma   1.0\n",
       "4  Ullekha       LKG   2.5\n",
       "5    Kaavi      SSLC   5.5"
      ]
     },
     "execution_count": 4,
     "metadata": {},
     "output_type": "execute_result"
    }
   ],
   "source": [
    "d['Rank'] = d['Education'].rank()\n",
    "d"
   ]
  },
  {
   "cell_type": "code",
   "execution_count": 6,
   "id": "fd86a61f",
   "metadata": {},
   "outputs": [
    {
     "name": "stdout",
     "output_type": "stream",
     "text": [
      "      Name Education  Rank  Rank_min\n",
      "0     Abhi      SSLC   5.5       5.0\n",
      "1    Shruu       LKG   2.5       2.0\n",
      "2   Priiii       PUC   4.0       4.0\n",
      "3   Aishii   Diploma   1.0       1.0\n",
      "4  Ullekha       LKG   2.5       2.0\n",
      "5    Kaavi      SSLC   5.5       5.0\n"
     ]
    }
   ],
   "source": [
    "d['Rank_min'] = d['Education'].rank(method='min')\n",
    "print(d)\n"
   ]
  },
  {
   "cell_type": "code",
   "execution_count": null,
   "id": "e161b083",
   "metadata": {},
   "outputs": [],
   "source": []
  }
 ],
 "metadata": {
  "kernelspec": {
   "display_name": "Python 3 (ipykernel)",
   "language": "python",
   "name": "python3"
  },
  "language_info": {
   "codemirror_mode": {
    "name": "ipython",
    "version": 3
   },
   "file_extension": ".py",
   "mimetype": "text/x-python",
   "name": "python",
   "nbconvert_exporter": "python",
   "pygments_lexer": "ipython3",
   "version": "3.10.9"
  }
 },
 "nbformat": 4,
 "nbformat_minor": 5
}
